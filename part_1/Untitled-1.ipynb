{
 "cells": [
  {
   "cell_type": "markdown",
   "source": [
    "$$ ax + by + c = 0 $$"
   ],
   "metadata": {}
  },
  {
   "cell_type": "markdown",
   "source": [
    "$(x_i, y_i)$"
   ],
   "metadata": {}
  },
  {
   "cell_type": "markdown",
   "source": [
    "$z_i = +-1$"
   ],
   "metadata": {}
  },
  {
   "cell_type": "markdown",
   "source": [
    "$ax_i + by_i + c > 0$"
   ],
   "metadata": {}
  },
  {
   "cell_type": "markdown",
   "source": [
    "$z_i(ax_i + by_i + c) > 0$"
   ],
   "metadata": {}
  },
  {
   "cell_type": "markdown",
   "source": [
    "*формула расстояния от точки до прямой*\r\n",
    "*числитель берем по модулю*\r\n",
    "$d=\\dfrac{ax_i + by_i + c}{\\sqrt{a^2 + b^2}}$"
   ],
   "metadata": {}
  },
  {
   "cell_type": "markdown",
   "source": [
    "$z_i(ax_i + by_i + c) >= 0$"
   ],
   "metadata": {}
  },
  {
   "cell_type": "markdown",
   "source": [
    "$\\dfrac{z_i(ax_i + by_i + c)}{\\sqrt{a^2 + b^2}}\\geqslant \\dfrac{1}{\\sqrt{a^2 + b^2}}$"
   ],
   "metadata": {}
  },
  {
   "cell_type": "markdown",
   "source": [
    "$\\sqrt{a^2 + b^2} \\to min$"
   ],
   "metadata": {}
  },
  {
   "cell_type": "markdown",
   "source": [
    "$a^2 + b^2 \\to min$"
   ],
   "metadata": {}
  }
 ],
 "metadata": {
  "orig_nbformat": 4,
  "language_info": {
   "name": "python"
  }
 },
 "nbformat": 4,
 "nbformat_minor": 2
}