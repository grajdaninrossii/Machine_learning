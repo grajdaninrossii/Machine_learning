{
 "cells": [
  {
   "cell_type": "markdown",
   "metadata": {},
   "source": [
    "# ROC - кривая"
   ]
  },
  {
   "cell_type": "code",
   "execution_count": 1,
   "metadata": {},
   "outputs": [],
   "source": [
    "from sklearn.datasets import load_breast_cancer\n",
    "from sklearn.datasets import load_digits\n",
    "from sklearn import preprocessing\n",
    "from sklearn.model_selection import train_test_split\n",
    "from sklearn.neighbors import KNeighborsClassifier\n",
    "from matplotlib import pyplot as plt\n",
    "from sklearn.metrics import roc_curve, auc\n",
    "from sklearn.metrics import roc_auc_score\n",
    "import numpy as np\n",
    "import timeit"
   ]
  },
  {
   "cell_type": "code",
   "execution_count": 2,
   "metadata": {},
   "outputs": [],
   "source": [
    "def creat_graph(fpr, tpr, roc_auc, n, m):\n",
    "    # строим график\n",
    "    plt.plot(fpr, tpr, color= \"cyan\",\n",
    "            label= f'ROC кривая (area = {roc_auc:0.3f}) для {n} соседей и метрики {m}')\n",
    "    plt.plot([0, 1], [0, 1], color='navy', linestyle='--')\n",
    "    plt.xlim([0.0, 1.0])\n",
    "    plt.ylim([0.0, 1.05])\n",
    "    plt.xlabel('False Positive Rate')\n",
    "    plt.ylabel('True Positive Rate')\n",
    "    plt.title('Пример ROC-кривой')\n",
    "    plt.legend(loc=\"lower right\")\n",
    "    plt.show()"
   ]
  },
  {
   "cell_type": "code",
   "execution_count": 3,
   "metadata": {},
   "outputs": [],
   "source": [
    "def main():\n",
    "    data = load_breast_cancer()\n",
    "\n",
    "    # print(np.unique(load_digits().target))\n",
    "\n",
    "    X = data.data # Данные\n",
    "    Y = data.target # Целевые показатели\n",
    "\n",
    "    x_train, x_test, y_train, y_test = train_test_split(X, Y, train_size = 0.7, random_state = 42) # Разбиение данных\n",
    "\n",
    "    scare_minmax = preprocessing.MinMaxScaler()\n",
    "    # scare_minmax.fit_transform(x_train)\n",
    "    # scare_minmax.fit_transform(x_test)\n",
    "\n",
    "    scare_minmax.fit(x_train) # Подготавливает данные к маштабированию\n",
    "    scare_minmax.transform(x_train) # Маштабирование\n",
    "    metrics_list = [\"euclidean\", \"manhattan\", \"chebyshev\"]\n",
    "    statistics = [0, 0, 0]\n",
    "    for m in metrics_list:\n",
    "        for n in range(4, 10):\n",
    "            logreg = KNeighborsClassifier(metric = m, n_neighbors = n) # Тренируем\n",
    "            logreg.fit(x_train, y_train)\n",
    "            #answer = logreg.score(x_test, y_test) # Сравнение прогнозов с правильными рез-тами.\n",
    "            logreg_prob = logreg.predict_proba(x_test)\n",
    "\n",
    "            logreg_prob = logreg_prob[:,1] # берем только положительные исходы\n",
    "\n",
    "\n",
    "            # True Positive Rate (TPR) показывает, какой процент среди всех positive верно предсказан моделью.\n",
    "            # TPR = TP / (TP + FN).\n",
    "\n",
    "            # False Positive Rate (FPR): какой процент среди всех negative неверно предсказан моделью.\n",
    "            # FPR = FP / (FP + TN).\n",
    "\n",
    "            # рассчитываем ROC AUC или area under curve(площадь под графиком)\n",
    "            lr_auc = roc_auc_score(y_test, logreg_prob)\n",
    "\n",
    "            # рассчитываем roc-кривую\n",
    "            fpr, tpr, treshold = roc_curve(y_test, logreg_prob)\n",
    "\n",
    "            roc_auc = auc(fpr, tpr)\n",
    "\n",
    "            if lr_auc > statistics[2]:\n",
    "                statistics = [fpr, tpr, roc_auc, n, m]\n",
    "    print(f'ROC for best metrics: {statistics[4]}, best count neighbours:', statistics[3])\n",
    "    creat_graph(*statistics)"
   ]
  },
  {
   "cell_type": "code",
   "execution_count": 4,
   "metadata": {},
   "outputs": [
    {
     "name": "stdout",
     "output_type": "stream",
     "text": [
      "ROC for best metrics: manhattan, best count neighbours: 7\n"
     ]
    },
    {
     "data": {
      "image/png": "[encoded data removed]",
      "text/plain": [
       "<Figure size 432x288 with 1 Axes>"
      ]
     },
     "metadata": {
      "needs_background": "light"
     },
     "output_type": "display_data"
    }
   ],
   "source": [
    "if __name__ == \"__main__\":\n",
    "    main()"
   ]
  }
 ],
 "metadata": {
  "interpreter": {
   "hash": "3f3276811286a09a4a5800c96bcffd2991fef064f3f472c3248f5fe31bf08715"
  },
  "kernelspec": {
   "display_name": "Python 3.9.6 64-bit",
   "language": "python",
   "name": "python3"
  },
  "language_info": {
   "codemirror_mode": {
    "name": "ipython",
    "version": 3
   },
   "file_extension": ".py",
   "mimetype": "text/x-python",
   "name": "python",
   "nbconvert_exporter": "python",
   "pygments_lexer": "ipython3",
   "version": "3.9.6"
  },
  "orig_nbformat": 4
 },
 "nbformat": 4,
 "nbformat_minor": 2
}
