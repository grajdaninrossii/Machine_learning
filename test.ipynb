{
 "cells": [
  {
   "cell_type": "code",
   "execution_count": 44,
   "source": [
    "import numpy as np\r\n",
    "numpy.version.full_version"
   ],
   "outputs": [
    {
     "output_type": "execute_result",
     "data": {
      "text/plain": [
       "'1.21.2'"
      ]
     },
     "metadata": {},
     "execution_count": 44
    }
   ],
   "metadata": {}
  },
  {
   "cell_type": "code",
   "execution_count": 45,
   "source": [
    "a = np.array([0, 1, 2,3, 4, 5])\r\n",
    "print(a.ndim) # Массив одномерный(ndim показывает мерность массива)\r\n",
    "a.shape"
   ],
   "outputs": [
    {
     "output_type": "stream",
     "name": "stdout",
     "text": [
      "1\n"
     ]
    },
    {
     "output_type": "execute_result",
     "data": {
      "text/plain": [
       "(6,)"
      ]
     },
     "metadata": {},
     "execution_count": 45
    }
   ],
   "metadata": {}
  },
  {
   "cell_type": "code",
   "execution_count": 46,
   "source": [
    "b = a.reshape((3, 2)) # Сделаем массив двумерным.\r\n",
    "b"
   ],
   "outputs": [
    {
     "output_type": "execute_result",
     "data": {
      "text/plain": [
       "array([[0, 1],\n",
       "       [2, 3],\n",
       "       [4, 5]])"
      ]
     },
     "metadata": {},
     "execution_count": 46
    }
   ],
   "metadata": {}
  },
  {
   "cell_type": "code",
   "execution_count": 47,
   "source": [
    "b[1][0] = 77 # Копирование не производится.\r\n",
    "print(b, a, sep = \"\\n\") # Нужно использовать copy() для копирования."
   ],
   "outputs": [
    {
     "output_type": "stream",
     "name": "stdout",
     "text": [
      "[[ 0  1]\n",
      " [77  3]\n",
      " [ 4  5]]\n",
      "[ 0  1 77  3  4  5]\n"
     ]
    }
   ],
   "metadata": {}
  },
  {
   "cell_type": "code",
   "execution_count": 48,
   "source": [
    "d = np.array([1, 2, 3, 4, 5])\r\n",
    "d *= 2 # Тоже справедливо и для других операций.\r\n",
    "d # Умножение всех эл. на число."
   ],
   "outputs": [
    {
     "output_type": "execute_result",
     "data": {
      "text/plain": [
       "array([ 2,  4,  6,  8, 10])"
      ]
     },
     "metadata": {},
     "execution_count": 48
    }
   ],
   "metadata": {}
  },
  {
   "cell_type": "code",
   "execution_count": 49,
   "source": [
    "a[np.array([2, 3, 4])] # Доступ к нескольким индексам"
   ],
   "outputs": [
    {
     "output_type": "execute_result",
     "data": {
      "text/plain": [
       "array([77,  3,  4])"
      ]
     },
     "metadata": {},
     "execution_count": 49
    }
   ],
   "metadata": {}
  },
  {
   "cell_type": "code",
   "execution_count": 50,
   "source": [
    "a > 4"
   ],
   "outputs": [
    {
     "output_type": "execute_result",
     "data": {
      "text/plain": [
       "array([False, False,  True, False, False,  True])"
      ]
     },
     "metadata": {},
     "execution_count": 50
    }
   ],
   "metadata": {}
  },
  {
   "cell_type": "code",
   "execution_count": 51,
   "source": [
    "print(a[a>4]) # Вывести эл-ты удовлетворяющие условию.\r\n",
    "a[a>4] = 4 # всем эл-там больше 4 присовоить 4.\r\n",
    "a"
   ],
   "outputs": [
    {
     "output_type": "stream",
     "name": "stdout",
     "text": [
      "[77  5]\n"
     ]
    },
    {
     "output_type": "execute_result",
     "data": {
      "text/plain": [
       "array([0, 1, 4, 3, 4, 4])"
      ]
     },
     "metadata": {},
     "execution_count": 51
    }
   ],
   "metadata": {}
  },
  {
   "cell_type": "markdown",
   "source": [
    "*Проверим скорость numpy*"
   ],
   "metadata": {}
  },
  {
   "cell_type": "code",
   "execution_count": 55,
   "source": [
    "import timeit\r\n",
    "\r\n",
    "normal_py_sec = timeit.timeit('sum(x*x for x in range(1000))', number = 10000)\r\n",
    "\r\n",
    "naive_np_sec = timeit.timeit('sum(na*na)',\r\n",
    "                              setup = \"import numpy as np; na = np.arange(1000)\",\r\n",
    "                              number = 10000)\r\n",
    "\r\n",
    "good_np_sec = timeit.timeit('na.dot(na)', # Складываем все элементы массива\r\n",
    "                             setup = \"import numpy as np; na = np.arange(1000)\",\r\n",
    "                             number = 10000)"
   ],
   "outputs": [],
   "metadata": {}
  },
  {
   "cell_type": "code",
   "execution_count": 56,
   "source": [
    "print(f\"Normal Python: {normal_py_sec}\")\r\n",
    "print(f\"Naive NumPy: {naive_np_sec}\")\r\n",
    "print(f\"Good NumPy: {good_np_sec}\")"
   ],
   "outputs": [
    {
     "output_type": "stream",
     "name": "stdout",
     "text": [
      "Normal Python: 0.8955531000001429\n",
      "Naive NumPy: 1.007100800000444\n",
      "Good NumPy: 0.01472849999936443\n"
     ]
    }
   ],
   "metadata": {}
  },
  {
   "cell_type": "code",
   "execution_count": 59,
   "source": [
    "import scipy, numpy\r\n",
    "scipy.version.full_version\r\n",
    "scipy.dot is numpy.dot"
   ],
   "outputs": [
    {
     "output_type": "execute_result",
     "data": {
      "text/plain": [
       "False"
      ]
     },
     "metadata": {},
     "execution_count": 59
    }
   ],
   "metadata": {}
  }
 ],
 "metadata": {
  "orig_nbformat": 4,
  "language_info": {
   "name": "python",
   "version": "3.9.6",
   "mimetype": "text/x-python",
   "codemirror_mode": {
    "name": "ipython",
    "version": 3
   },
   "pygments_lexer": "ipython3",
   "nbconvert_exporter": "python",
   "file_extension": ".py"
  },
  "kernelspec": {
   "name": "python3",
   "display_name": "Python 3.9.6 64-bit"
  },
  "interpreter": {
   "hash": "9b0038b8654e6c4b575324a698b00e9b31ae872c76295b34e2aa6e1d02b9dde0"
  }
 },
 "nbformat": 4,
 "nbformat_minor": 2
}