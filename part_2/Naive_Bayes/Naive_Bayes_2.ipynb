{
 "cells": [
  {
   "cell_type": "code",
   "execution_count": 1,
   "metadata": {},
   "outputs": [],
   "source": [
    "import numpy as np\n",
    "import pandas as pd\n",
    "from collections import Counter\n",
    "from sklearn.model_selection import train_test_split\n",
    "from sklearn.naive_bayes import CategoricalNB"
   ]
  },
  {
   "cell_type": "markdown",
   "metadata": {},
   "source": [
    "*Создаем класс Баеса*"
   ]
  },
  {
   "cell_type": "code",
   "execution_count": 2,
   "metadata": {},
   "outputs": [],
   "source": [
    "class Naive_Bayes():\n",
    "\n",
    "    def __init__(self):\n",
    "        pass\n",
    "\n",
    "    def fit(self, X, y):\n",
    "\n",
    "        # # Для использования в predict-ах\n",
    "        # self.X = X\n",
    "        # self.y = y\n",
    "\n",
    "        categ = X.copy()\n",
    "        categ[y.name] = y.values\n",
    "\n",
    "        # Делаем подсчет уникальных элементов\n",
    "        dict_counter = dict()\n",
    "        for c in categ.columns:\n",
    "            dict_counter[c] = Counter(categ[c])\n",
    "\n",
    "        # print(dict_counter)\n",
    "\n",
    "        # Подсчет вероятностей\n",
    "        self.probabilities = dict()\n",
    "        for column in list(dict_counter):\n",
    "            summ = sum(dict_counter[column].values()) # Общее кол-во элементов (можно использовать кол-во записей)\n",
    "            self.probabilities.update({k: v/summ  for k, v in dict_counter[column].items()})\n",
    "        # print(\"probabilities: \", self.probabilities)\n",
    "\n",
    "        # Расчет условных вероятностей\n",
    "        x_property = np.unique(X.values.reshape(1,-1)) # найдем все значения свойств в X\n",
    "        x_property = {x: np.unique(X[x]) for x in X}\n",
    "\n",
    "        self.y_unique = np.unique(y)\n",
    "        i = 0\n",
    "        no_devide_zero = 0.01\n",
    "        conditional_probability = dict()\n",
    "        for y_v in self.y_unique:\n",
    "            for x_k, x_v_list in x_property.items():\n",
    "                for x_v in x_v_list:\n",
    "                    i+=1\n",
    "                    x_y_count = categ[categ[x_k] == x_v][categ[y.name] == y_v][y.name].size # Кол-во записей, где оба критерия выполняются\n",
    "                    y_count = categ[categ[y.name] == y_v][y.name].size # кол-во записей, где выполняется только y\n",
    "                    conditional_probability.update({x_v + \"|\" + y_v: x_y_count / (y_count + no_devide_zero)})\n",
    "                    # name = y_v + \"|\" + x_v\n",
    "                    # conditional_probability[name]= x_y_count / x_count\n",
    "\n",
    "        # print(conditional_probability)\n",
    "        # print(\"i\",i)\n",
    "\n",
    "        # Сохраняем вероятности в один словарь\n",
    "        self.probabilities.update(conditional_probability)\n",
    "\n",
    "    # Классификатор массива\n",
    "    def predict(self, X):\n",
    "        return [self.predict_proba(x) for x in X.values]\n",
    "\n",
    "    # Классификатор\n",
    "    def predict_proba(self, X):\n",
    "\n",
    "        # predict_y = \"Косяк\"\n",
    "        predict_probabilities = dict()\n",
    "        # print(self.probabilities)\n",
    "        for y in self.y_unique:\n",
    "            keys_probabilities = [self.probabilities[f\"{X[0]}|{y}\"],\n",
    "                                  self.probabilities[f\"{X[1]}|{y}\"],\n",
    "                                  self.probabilities[f\"{X[2]}|{y}\"],\n",
    "                                  self.probabilities[f\"{X[3]}|{y}\"],\n",
    "                                  self.probabilities[y],\n",
    "                                  self.probabilities[X[0]],\n",
    "                                  self.probabilities[X[1]],\n",
    "                                  self.probabilities[X[2]],\n",
    "                                  self.probabilities[X[3]]]\n",
    "\n",
    "            rezult = 1 # для умножения\n",
    "            c = 0 # коэффициент\n",
    "            for k in range(len(keys_probabilities)):\n",
    "                if k < 5:\n",
    "                    rezult *= keys_probabilities[k] + c\n",
    "                    continue\n",
    "                rezult /= keys_probabilities[k] + c\n",
    "            predict_probabilities[y] = rezult\n",
    "\n",
    "        # print(predict_probabilities)\n",
    "        # print(sum(predict_probabilities.values()))\n",
    "\n",
    "        return max(predict_probabilities, key=predict_probabilities.get)\n",
    "\n",
    "    def score(self, X, y):\n",
    "        rez = np.array(self.predict(X))\n",
    "        return rez[y == rez].size / rez.size\n"
   ]
  },
  {
   "cell_type": "code",
   "execution_count": 3,
   "metadata": {},
   "outputs": [],
   "source": [
    "def score_categorical_bayes(X, y):\n",
    "\n",
    "    clf = CategoricalNB()\n",
    "\n",
    "    # Перевод категориальных данных в численное представление\n",
    "    from sklearn.preprocessing import OrdinalEncoder\n",
    "    ord_enc = OrdinalEncoder()\n",
    "    X = X.select_dtypes(include=['object']).copy() # для создания нового фрейма данных, содержащего только столбцы типа object\n",
    "    y = y.astype(object).copy()\n",
    "\n",
    "    X = ord_enc.fit_transform(X) # преобразуем объекты в число\n",
    "    y = ord_enc.fit_transform(np.array(y).reshape(-1, 1)).ravel()\n",
    "\n",
    "    # obj_df[obj_df.isnull().any(axis=1)] # Очистка нулевых значений\n",
    "\n",
    "    # KFold\n",
    "    from sklearn.model_selection import KFold\n",
    "\n",
    "    # инициализация KFold с 5тью фолдами\n",
    "    kf = KFold(n_splits=5)\n",
    "    classifiers = []\n",
    "\n",
    "    # метод split возвращает индексы для объектов train и test\n",
    "    for train_index, test_index in kf.split(X):\n",
    "        clf_cross = CategoricalNB()\n",
    "        X_train, X_test = X[train_index[0]:train_index[-1]], X[test_index[0]:test_index[-1]]\n",
    "        y_train, y_test = y[train_index[0]:train_index[-1]], y[test_index[0]:test_index[-1]]\n",
    "        clf_cross.fit(X_train, y_train)\n",
    "        classifiers.append(clf_cross.score(X_test, y_test)) # получим 5 оптимальных классификаторов\n",
    "    print(\"KFold: \", classifiers) # Выводим рез-тат кроссвалидации\n",
    "\n",
    "    # Делим данные на тестовые и тренировочные\n",
    "    x_train, x_test, y_train, y_test = train_test_split(X, y, train_size = 0.7, random_state = 42)\n",
    "\n",
    "    clf.fit(x_train, y_train)\n",
    "    print(\"CategoricalNB() score: \", clf.score(x_test, y_test))"
   ]
  },
  {
   "cell_type": "code",
   "execution_count": 4,
   "metadata": {},
   "outputs": [],
   "source": [
    "def score_my_naive_bayes(X, y):\n",
    "\n",
    "    clf = Naive_Bayes()\n",
    "\n",
    "    clf.fit(X, y)\n",
    "\n",
    "    # KFold\n",
    "    from sklearn.model_selection import KFold\n",
    "\n",
    "    # инициализация KFold с 5тью фолдами\n",
    "    kf = KFold(n_splits=5)\n",
    "    classifiers = []\n",
    "\n",
    "    # метод split возвращает индексы для объектов train и test\n",
    "    for train_index, test_index in kf.split(X):\n",
    "        clf_cross = Naive_Bayes()\n",
    "        X_train, X_test = X[train_index[0]:train_index[-1]], X[test_index[0]:test_index[-1]]\n",
    "        y_train, y_test = y[train_index[0]:train_index[-1]], y[test_index[0]:test_index[-1]]\n",
    "        clf_cross.fit(X_train, y_train)\n",
    "        classifiers.append(clf_cross.score(X_test, y_test)) # получим 5 оптимальных классификаторов\n",
    "    print(\"KFold: \", classifiers) # Выводим рез-тат кроссвалидации\n",
    "\n",
    "    # Делим данные на тестовые и тренировочные\n",
    "    x_train, x_test, y_train, y_test = train_test_split(X, y, train_size = 0.7, random_state = 42)\n",
    "\n",
    "    clf.fit(x_train, y_train)\n",
    "    print(\"Naive_Baes score: \", clf.score(x_test, y_test) )"
   ]
  },
  {
   "cell_type": "code",
   "execution_count": 5,
   "metadata": {},
   "outputs": [],
   "source": [
    "def main():\n",
    "    # Загружаем датасеты\n",
    "    for dts in [\"./categ.csv\", \"./categ_2.csv\"]:\n",
    "        categ = pd.read_csv(dts, delimiter=\",\")\n",
    "        del categ['Unnamed: 0'] # Удаляем столбец подсчета\n",
    "\n",
    "        # Разделяем данные\n",
    "        X = categ[[\"размер\", \"ткань\", \"цвет\", \"рукав\"]]\n",
    "        y = categ[\"спрос\"]\n",
    "\n",
    "        print(\"<-----------------ОЦЕНКИ КЛАССИФИКАЦИИ ДЛЯ\", dts, \"--------------------------------->\\n\")\n",
    "\n",
    "        print(\"CategoricalNB from sklearn:\")\n",
    "        score_categorical_bayes(X, y)\n",
    "        print()\n",
    "\n",
    "        print(\"Naive_Baes from my script:\")\n",
    "        score_my_naive_bayes(X,y)\n",
    "        print()"
   ]
  },
  {
   "cell_type": "code",
   "execution_count": 6,
   "metadata": {},
   "outputs": [
    {
     "name": "stdout",
     "output_type": "stream",
     "text": [
      "<-----------------ОЦЕНКИ КЛАССИФИКАЦИИ ДЛЯ ./categ.csv --------------------------------->\n",
      "\n",
      "CategoricalNB from sklearn:\n",
      "KFold:  [0.8164082041020511, 0.8199099549774888, 0.8194097048524263, 0.8084042021010506, 0.8104052026013007]\n",
      "CategoricalNB() score:  0.8046666666666666\n",
      "\n",
      "Naive_Baes from my script:\n"
     ]
    },
    {
     "name": "stderr",
     "output_type": "stream",
     "text": [
      "C:\\Users\\kuzin\\AppData\\Local\\Temp/ipykernel_2912/3318508606.py:41: UserWarning: Boolean Series key will be reindexed to match DataFrame index.\n",
      "  x_y_count = categ[categ[x_k] == x_v][categ[y.name] == y_v][y.name].size # Кол-во записей, где оба критерия выполняются\n"
     ]
    },
    {
     "name": "stdout",
     "output_type": "stream",
     "text": [
      "KFold:  [0.8209104552276139, 0.8204102051025512, 0.8214107053526764, 0.8084042021010506, 0.8109054527263632]\n",
      "Naive_Baes score:  0.805\n",
      "\n",
      "<-----------------ОЦЕНКИ КЛАССИФИКАЦИИ ДЛЯ ./categ_2.csv --------------------------------->\n",
      "\n",
      "CategoricalNB from sklearn:\n",
      "KFold:  [0.7958979489744873, 0.7713856928464232, 0.7788894447223612, 0.7908954477238619, 0.7898949474737369]\n",
      "CategoricalNB() score:  0.7946666666666666\n",
      "\n",
      "Naive_Baes from my script:\n"
     ]
    },
    {
     "name": "stderr",
     "output_type": "stream",
     "text": [
      "C:\\Users\\kuzin\\AppData\\Local\\Temp/ipykernel_2912/3318508606.py:41: UserWarning: Boolean Series key will be reindexed to match DataFrame index.\n",
      "  x_y_count = categ[categ[x_k] == x_v][categ[y.name] == y_v][y.name].size # Кол-во записей, где оба критерия выполняются\n"
     ]
    },
    {
     "name": "stdout",
     "output_type": "stream",
     "text": [
      "KFold:  [0.7968984492246123, 0.7738869434717359, 0.7808904452226113, 0.7943971985992997, 0.7913956978489245]\n",
      "Naive_Baes score:  0.7923333333333333\n",
      "\n"
     ]
    }
   ],
   "source": [
    "if __name__ == \"__main__\":\n",
    "    main()"
   ]
  },
  {
   "cell_type": "markdown",
   "metadata": {},
   "source": []
  }
 ],
 "metadata": {
  "interpreter": {
   "hash": "3f3276811286a09a4a5800c96bcffd2991fef064f3f472c3248f5fe31bf08715"
  },
  "kernelspec": {
   "display_name": "Python 3.9.6 64-bit",
   "language": "python",
   "name": "python3"
  },
  "language_info": {
   "codemirror_mode": {
    "name": "ipython",
    "version": 3
   },
   "file_extension": ".py",
   "mimetype": "text/x-python",
   "name": "python",
   "nbconvert_exporter": "python",
   "pygments_lexer": "ipython3",
   "version": "3.9.6"
  },
  "orig_nbformat": 4
 },
 "nbformat": 4,
 "nbformat_minor": 2
}
