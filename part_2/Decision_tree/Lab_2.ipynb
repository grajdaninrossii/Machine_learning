{
 "cells": [
  {
   "cell_type": "code",
   "execution_count": 1,
   "metadata": {},
   "outputs": [],
   "source": [
    "import pandas as pd\n",
    "import numpy as np\n",
    "from graphviz import Digraph\n",
    "from sklearn import datasets as dts\n",
    "from sklearn import preprocessing\n",
    "from sklearn.model_selection import train_test_split\n",
    "from matplotlib import pyplot as plt\n",
    "import random\n"
   ]
  },
  {
   "cell_type": "markdown",
   "metadata": {},
   "source": [
    "*Находим gini на выборке*"
   ]
  },
  {
   "cell_type": "code",
   "execution_count": 2,
   "metadata": {},
   "outputs": [],
   "source": [
    "# Находим gini на выборке\n",
    "def gini_impurity(y):\n",
    "    try:\n",
    "        _, counts = np.unique(y, return_counts = True)\n",
    "        p = counts / y.shape[0]\n",
    "        gini = 1 - np.sum(p**2)\n",
    "        return(gini)\n",
    "    except:\n",
    "       raise TypeError(\"Ошибка, в функцию gini_impurity() нужно вводить массив!\")"
   ]
  },
  {
   "cell_type": "markdown",
   "metadata": {},
   "source": [
    "*Находим энтропию на выборке*"
   ]
  },
  {
   "cell_type": "code",
   "execution_count": 3,
   "metadata": {},
   "outputs": [],
   "source": [
    "# Находим энтропию на выборке\n",
    "def entropy(y):\n",
    "    try:\n",
    "        _, counts = np.unique(y, return_counts = True)\n",
    "        a = counts / y.shape[0]\n",
    "        entropy = np.sum(-a * np.log2(a))\n",
    "        return(entropy)\n",
    "    except:\n",
    "        raise TypeError(\"Ошибка, в функцию entropy() нужно вводить массив!\")"
   ]
  },
  {
   "cell_type": "markdown",
   "metadata": {},
   "source": [
    "*Находим прирост информации*"
   ]
  },
  {
   "cell_type": "code",
   "execution_count": 4,
   "metadata": {},
   "outputs": [],
   "source": [
    "# Xm - выборка до разбиения\n",
    "# Xl, Xr - выборки полученные разбиением (целевые значения, т.е. классы)\n",
    "def gain_info(criterion, Xm, Xl, Xr):\n",
    "    q = criterion(Xm) - Xl.shape[0] / Xm.shape[0] * criterion(Xl) - Xr.shape[0] / Xm.shape[0] * criterion(Xr)\n",
    "    return q, criterion(Xm)"
   ]
  },
  {
   "cell_type": "markdown",
   "metadata": {},
   "source": [
    "*Находим наилучшее условие для разбиения*"
   ]
  },
  {
   "cell_type": "code",
   "execution_count": 5,
   "metadata": {},
   "outputs": [],
   "source": [
    "def create_split(X, y, criterion, signs):\n",
    "\n",
    "    # Подсчитываем кол-во каждого класса\n",
    "    values = tuple([y[y == v].shape[0] for v in signs])\n",
    "    # print(values)\n",
    "    term = [(0, 0), 0, 0, y.shape[0], values, max(enumerate(values), key=lambda x: x[1])[0]]\n",
    "\n",
    "    # [условие, criterion, gain_info, samples, values, class]\n",
    "    if not criterion(y):\n",
    "        term[0] = False\n",
    "        return term\n",
    "\n",
    "    # Смотрим по признаку\n",
    "    for i in range(X.shape[1]):\n",
    "        u_x_i = np.unique(X[:, i])\n",
    "\n",
    "        # Выбираем пороговое значение\n",
    "        for j in range(u_x_i.shape[0] - 1):\n",
    "            cnd = (u_x_i[j] + u_x_i[j + 1]) / 2\n",
    "            new_term = [(i, cnd), *gain_info(criterion, y, y[X[:, i] >= cnd],  y[X[:, i] < cnd])]\n",
    "            if term[1] <= new_term[1]:\n",
    "                term[:3] = new_term\n",
    "    return term\n",
    "\n",
    "# print(create_split(X, y, gini_impurity, np.unique(y)))\n",
    "\n",
    "# print(np.unique(X[:, 3]))"
   ]
  },
  {
   "cell_type": "markdown",
   "metadata": {},
   "source": [
    "**Строим дерево решений**"
   ]
  },
  {
   "cell_type": "code",
   "execution_count": 6,
   "metadata": {},
   "outputs": [],
   "source": [
    "# Разбиение данасета по условию\n",
    "def split_dt(X, y, splt):\n",
    "    if not splt[0]:\n",
    "        return -1 # Ошибка\n",
    "    c = splt[0]\n",
    "    return [\n",
    "                X[X[:, c[0]] < c[1]],\n",
    "                y[X[:, c[0]] < c[1]],\n",
    "                X[X[:, c[0]] >=  c[1]],\n",
    "                y[X[:, c[0]] >= c[1]]\n",
    "            ]"
   ]
  },
  {
   "cell_type": "code",
   "execution_count": 7,
   "metadata": {},
   "outputs": [],
   "source": [
    "# def split_dt(X, y, pos, conditions):\n",
    "#     Xn, Yn = X, y\n",
    "#     print(pos, conditions)\n",
    "#     for i in range(len(conditions)):\n",
    "#         if conditions[i] == False:\n",
    "#             break\n",
    "#         if pos[i] == \"l\":\n",
    "#             Yn = Yn[Xn[:, conditions[i][0]] <= conditions[i][1]]\n",
    "#             Xn = Xn[Xn[:, conditions[i][0]] <= conditions[i][1]]\n",
    "#         else:\n",
    "#             Yn = Yn[Xn[:, conditions[i][0]] > conditions[i][1]]\n",
    "#             Xn = Xn[Xn[:, conditions[i][0]] > conditions[i][1]]\n",
    "#     # print(Yn)\n",
    "#     return Xn, Yn"
   ]
  },
  {
   "cell_type": "code",
   "execution_count": 8,
   "metadata": {},
   "outputs": [],
   "source": [
    "\n",
    "# Ячейка дерева, где\n",
    "# X, y - data, target, фильтрованные по условию родителя\n",
    "# signs - уникальные значения y, до разбиения\n",
    "# max_depth - максимальная глубина дерева\n",
    "# depth - начальный уровень дерева\n",
    "def node(X, y, criterion, signs, max_depth, depth = 1):\n",
    "    split = [*create_split(X, y, criterion, signs), 1]\n",
    "\n",
    "    if not split[0] or depth > max_depth - 1:\n",
    "        # print(\"Это лист\", split[1:])\n",
    "        split[-1] = 0\n",
    "        return split\n",
    "    Xl, yl, Xr, yr = split_dt(X, y, split)\n",
    "\n",
    "    # Рекурсией создаем дерево\n",
    "    return split, node(Xl, yl, criterion, signs, max_depth, depth + 1), node(Xr, yr, criterion, signs, max_depth, depth + 1)"
   ]
  },
  {
   "cell_type": "code",
   "execution_count": 9,
   "metadata": {},
   "outputs": [],
   "source": [
    "import math \n",
    "# Создаем дерево, вызывая функцию для начала рекурсии\n",
    "def tree(X, y, criterion = gini_impurity, max_depth = math.inf):\n",
    "    clf = node(X, y, criterion, np.unique(y), max_depth)\n",
    "    return clf"
   ]
  },
  {
   "cell_type": "code",
   "execution_count": 10,
   "metadata": {},
   "outputs": [],
   "source": [
    "def predict_proba(node, X):\n",
    "    # print(node[0], \"-----\\n\", node[2])\n",
    "    # if node[0][-1] == 0:\n",
    "    #     return node[0][-2]\n",
    "    cond_index = node[0][0][0]\n",
    "    cond_value = node[0][0][1]\n",
    "    if X[cond_index] <= cond_value:\n",
    "        if node[1][-1]:\n",
    "            # print(\"Левая ветка\")\n",
    "            return predict_proba(node[1], X)\n",
    "        else:\n",
    "            # print(\"Наш ответ\", node[1][-2])\n",
    "            return node[1][-2]\n",
    "    else:\n",
    "        if node[2][-1]:\n",
    "            # print(\"Правая ветка\")\n",
    "            return predict_proba(node[2], X)\n",
    "        else:\n",
    "            # print(\"Наш ответ\", node[2][-2])\n",
    "            return node[2][-2]\n",
    "\n",
    "def score(tree, X, y):\n",
    "    rez = np.array(predict(tree, X))\n",
    "    return rez[y == rez].size / rez.size\n",
    "\n",
    "# Классификатор массива\n",
    "def predict(tree, X):\n",
    "    return [predict_proba(tree, x) for x in X]"
   ]
  },
  {
   "cell_type": "markdown",
   "metadata": {},
   "source": [
    "*Вывод дереьев в разной форме*"
   ]
  },
  {
   "cell_type": "code",
   "execution_count": 11,
   "metadata": {},
   "outputs": [],
   "source": [
    "# Просмотреть дерево в форме массивов\n",
    "def view_tree_mass(node, tab = \"\"):\n",
    "    print(tab, node[0])\n",
    "    if node[0][-1]:\n",
    "        if node[1][-1]:\n",
    "            view_tree_mass(node[1], tab + \"\\t\")\n",
    "        else:\n",
    "            print(tab + \"\\t\", node[1])\n",
    "        if node[2][-1]:\n",
    "            view_tree_mass(node[2], tab + \"\\t\")\n",
    "        else:\n",
    "            print(tab + \"\\t\", node[2])"
   ]
  },
  {
   "cell_type": "code",
   "execution_count": 12,
   "metadata": {},
   "outputs": [],
   "source": [
    "# Формализуем значения ячейки\n",
    "def create_label(lbl, feature_names, class_names):\n",
    "    new_lbl = \"\"\n",
    "    if lbl[0]:\n",
    "        feature = feature_names[lbl[0][0]]\n",
    "        feature_value = lbl[0][1]\n",
    "        new_lbl = f\"{feature} <= {feature_value:.3f}\\n\"\n",
    "    gini = lbl[2]\n",
    "    samples = lbl[3]\n",
    "    value = lbl[4]\n",
    "    cls = class_names[lbl[5]]\n",
    "    new_lbl += f\"gini = {gini:.3f}\\n\" + \\\n",
    "        f\"samples = {samples}\\n\" +\\\n",
    "        f\"value = {value}\\n\" +\\\n",
    "        f\"class = {cls}\"\n",
    "    return new_lbl"
   ]
  },
  {
   "cell_type": "code",
   "execution_count": 13,
   "metadata": {},
   "outputs": [],
   "source": [
    "# Используем формат hsla\n",
    "def create_color(cls):\n",
    "    visibility = \"ff\"\n",
    "\n",
    "    # Задаем готовые цвета, ибо в алгоритм генерации я быстро не смог...\n",
    "    # Если классов будет больше, чем цветов в списке, то вернет белый цвет\n",
    "    colors = [\"#ffffff\", \"#0000ff\", \"#00ff00\", \"#00ffff\", \"#ff0000\", \"#ff00ff\", \"#ffff00\", \"#00ffaa\", \"#00aaff\", \"#aa0000\", \"#ff00aa\", \"#aa00ff\"]\n",
    "    # l = list(range(0, 10, 2))\n",
    "    # random.shuffle(l)\n",
    "    # l = [v * 0.1 for v in l]\n",
    "\n",
    "    # Смотрим, есть ли явный кандитат или нет\n",
    "    set_cls = [c for c in cls if c != 0]\n",
    "    # print(set_cls)\n",
    "\n",
    "    if len(set_cls) != len(set(set_cls)):\n",
    "        return colors[0] + visibility\n",
    "        # print(\"хз\")\n",
    "    elif len(set(set_cls)) > 1:\n",
    "        visibility = \"20\"\n",
    "    predict_i = max(enumerate(cls), key=lambda x: x[1])[0]\n",
    "    try:\n",
    "        return colors[predict_i + 1] + visibility\n",
    "    except:\n",
    "        return colors[0] + visibility\n",
    "\n",
    "        # c = colors[predict_i % len(colors)].split(\" \")\n",
    "        # \"\".join(c) if predict_i > len(colors) else \"\".join(c[0] - 0.3 > 0 if c[0] - 0.3 else c[0], 3)\n",
    "        # k =  c[0] - 0.3 > 0 if c[0] - 0.3 else c[0]\n"
   ]
  },
  {
   "cell_type": "code",
   "execution_count": 14,
   "metadata": {},
   "outputs": [],
   "source": [
    "# Просмотреть дерево в виде графа\n",
    "def view_tree_graph(node, dot, k, feature_names, class_names):\n",
    "    dot.node(f\"{k + 1}\" +  f\"{node[0]}\", label = create_label(node[0], feature_names, class_names), style='filled', fillcolor=create_color(node[0][-3]))\n",
    "    if node[0][-1]:\n",
    "        if node[1][-1]:\n",
    "            view_tree_graph(node[1], dot, k + 1, feature_names, class_names)\n",
    "            dot.edge(f\"{k + 1}\" +  f\"{node[0]}\", f\"{k + 2}\" +  f\"{node[1][0]}\")\n",
    "        else:\n",
    "            dot.node(f\"{k + 1}\" +  f\"{node[1]}\", label = create_label(node[1], feature_names, class_names), style='filled', fillcolor=create_color(node[1][-3]))\n",
    "            dot.edge(f\"{k + 1}\" +  f\"{node[0]}\", f\"{k + 1}\" +  f\"{node[1]}\")\n",
    "        if node[2][-1]:\n",
    "            view_tree_graph(node[2], dot, k + 1, feature_names, class_names)\n",
    "            dot.edge(f\"{k + 1}\" +  f\"{node[0]}\", f\"{k + 2}\" +  f\"{node[2][0]}\")\n",
    "        else:\n",
    "            dot.node(f\"{k + 1}\" +  f\"{node[2]}\", label = create_label(node[2], feature_names, class_names), style='filled', fillcolor=create_color(node[2][-3]))\n",
    "            dot.edge(f\"{k + 1}\" +  f\"{node[0]}\", f\"{k + 1}\" +  f\"{node[2]}\")"
   ]
  },
  {
   "cell_type": "code",
   "execution_count": 15,
   "metadata": {},
   "outputs": [],
   "source": [
    "# Просмотреть дерево в виде графа\n",
    "def make_graph(tree, feature_names, class_names):\n",
    "    dot = Digraph(comment='The Round Table', )\n",
    "    dot.attr(\"node\", shape = \"rectangle\")\n",
    "    view_tree_graph(tree, dot, 10, feature_names, class_names)\n",
    "    return dot"
   ]
  },
  {
   "cell_type": "code",
   "execution_count": 16,
   "metadata": {},
   "outputs": [],
   "source": [
    "def main():\n",
    "    for load_dts, name_dts in [(dts.load_iris, \"Iris plants dataset\"),\n",
    "                               (dts.load_digits, \"Optical recognition of handwritten digits dataset\"),\n",
    "                               (dts.load_wine,\"Wine recognition dataset\"),\n",
    "                               (dts.load_breast_cancer, \"Breast cancer wisconsin (diagnostic) dataset\")]:\n",
    "\n",
    "        print(name_dts, \":\", sep=\"\")\n",
    "\n",
    "        data = load_dts(); # Загружаем датасеты\n",
    "\n",
    "        # Разделяем данные\n",
    "        X = data.data\n",
    "        y = data.target\n",
    "        # print(np.unique(y))\n",
    "\n",
    "        # Делим данные на тестовые и тренировочные\n",
    "        x_train, x_test, y_train, y_test = train_test_split(X, y, train_size = 0.7, random_state = 42)\n",
    "\n",
    "        # Создаем дерево (все в массивах), tree_train - итоговый массив\n",
    "        tree_train = tree(x_train, y_train, criterion = gini_impurity)\n",
    "\n",
    "        # print(tree_train)\n",
    "        # view_tree_mass(tree_train)\n",
    "\n",
    "        # Выводим на графике\n",
    "        graphic = make_graph(tree_train, data.feature_names, data.target_names)\n",
    "        graphic.render(f\"graphics/{name_dts}.gv\", view=True)\n",
    "\n",
    "        print(score(tree_train, x_test, y_test))\n",
    "        # print(y_test)\n",
    "\n",
    "        print(\"---\")\n",
    "        # print(tree(X, y))"
   ]
  },
  {
   "cell_type": "code",
   "execution_count": 17,
   "metadata": {},
   "outputs": [
    {
     "name": "stdout",
     "output_type": "stream",
     "text": [
      "Iris plants dataset:\n",
      "1.0\n",
      "---\n",
      "Optical recognition of handwritten digits dataset:\n",
      "0.8351851851851851\n",
      "---\n",
      "Wine recognition dataset:\n",
      "0.9629629629629629\n",
      "---\n",
      "Breast cancer wisconsin (diagnostic) dataset:\n",
      "0.9298245614035088\n",
      "---\n"
     ]
    }
   ],
   "source": [
    "if __name__ == \"__main__\":\n",
    "    main()"
   ]
  }
 ],
 "metadata": {
  "interpreter": {
   "hash": "3f3276811286a09a4a5800c96bcffd2991fef064f3f472c3248f5fe31bf08715"
  },
  "kernelspec": {
   "display_name": "Python 3.9.6 64-bit",
   "language": "python",
   "name": "python3"
  },
  "language_info": {
   "codemirror_mode": {
    "name": "ipython",
    "version": 3
   },
   "file_extension": ".py",
   "mimetype": "text/x-python",
   "name": "python",
   "nbconvert_exporter": "python",
   "pygments_lexer": "ipython3",
   "version": "3.9.6"
  },
  "orig_nbformat": 4
 },
 "nbformat": 4,
 "nbformat_minor": 2
}
