{
 "cells": [
  {
   "cell_type": "markdown",
   "metadata": {},
   "source": [
    "# Метод опорных векторов"
   ]
  },
  {
   "cell_type": "code",
   "execution_count": 7,
   "metadata": {},
   "outputs": [],
   "source": [
    "from sklearn import datasets as dts\n",
    "from sklearn.model_selection import train_test_split\n",
    "from sklearn import preprocessing\n",
    "from sklearn.datasets import make_classification\n",
    "from sklearn import svm\n",
    "import numpy as np\n",
    "import random\n",
    "# from collections import Counter\n",
    "import timeit\n",
    "# import numba"
   ]
  },
  {
   "cell_type": "code",
   "execution_count": 8,
   "metadata": {},
   "outputs": [],
   "source": [
    "def main():\n",
    "    print(\"Лучшее обучение: \")\n",
    "    for load_dataset, name_dts in [ (dts.load_iris, \"Iris plants dataset\"),\n",
    "                        (dts.load_digits, \"Optical recognition of handwritten digits dataset\"),\n",
    "                        (dts.load_wine,\"Wine recognition dataset\"),\n",
    "                        (dts.load_breast_cancer, \"Breast cancer wisconsin (diagnostic) dataset\")]:\n",
    "\n",
    "        data = load_dataset()\n",
    "        x = data.data\n",
    "        print(x.shape)\n",
    "        y = data.target\n",
    "        print(y.shape)\n",
    "        # разделим данные с помощью Scikit-Learn's train_test_split\n",
    "        x_train, x_test, y_train, y_test = train_test_split(x, y, train_size = 0.7, random_state = 42)\n",
    "\n",
    "        min_max_scaler = preprocessing.MinMaxScaler() # Создаем объект для нормализации\n",
    "        x_train = min_max_scaler.fit_transform(x_train)\n",
    "        x_test = min_max_scaler.fit_transform(x_test)\n",
    "\n",
    "        base_list = [\"linear\", \"poly\", \"rbf\", \"sigmoid\"] # \"precomputed\"\n",
    "        cs = [x * 0.1 for x in range(1, 11)]\n",
    "        gammas = [\"auto\", \"scale\"] + [x * 0.1 for x in range(1, 11)]\n",
    "        greatest_rez = [0, 0, 0, 0]\n",
    "        for c in cs:\n",
    "            for krnl in base_list:\n",
    "                for gm in gammas:\n",
    "                    clf = svm.SVC(kernel = krnl, gamma= gm)\n",
    "                    # if krnl == \"precomputed\":\n",
    "                    #     clf.fit(x_train, y_train)\n",
    "                    #     print(krnl, \": \", clf.score(x_test, y_test), sep = \"\")\n",
    "                    #     continue\n",
    "                    clf.fit(x_train, y_train)\n",
    "                    answ = clf.score(x_test, y_test)\n",
    "                    if answ > greatest_rez[0]:\n",
    "                        greatest_rez[0], greatest_rez[1], greatest_rez[2], greatest_rez[3] = answ, c, krnl, gm\n",
    "\n",
    "        print(f\"- на данных '{name_dts}' будет с C = '{greatest_rez[1]}' ядром '{greatest_rez[2]}', гаммой '{greatest_rez[3]}': {greatest_rez[0]}\")\n"
   ]
  },
  {
   "cell_type": "code",
   "execution_count": 9,
   "metadata": {},
   "outputs": [
    {
     "name": "stdout",
     "output_type": "stream",
     "text": [
      "Лучшее обучение: \n",
      "(150, 4)\n",
      "(150,)\n",
      "- на данных 'Iris plants dataset' будет с C = '0.1' ядром 'linear', гаммой 'auto': 1.0\n",
      "(1797, 64)\n",
      "(1797,)\n",
      "- на данных 'Optical recognition of handwritten digits dataset' будет с C = '0.1' ядром 'rbf', гаммой '0.2': 0.9907407407407407\n",
      "(178, 13)\n",
      "(178,)\n",
      "- на данных 'Wine recognition dataset' будет с C = '0.1' ядром 'poly', гаммой '0.30000000000000004': 1.0\n",
      "(569, 30)\n",
      "(569,)\n",
      "- на данных 'Breast cancer wisconsin (diagnostic) dataset' будет с C = '0.1' ядром 'rbf', гаммой 'auto': 0.9824561403508771\n"
     ]
    }
   ],
   "source": [
    "if __name__ == \"__main__\":\n",
    "    main()"
   ]
  }
 ],
 "metadata": {
  "interpreter": {
   "hash": "9b0038b8654e6c4b575324a698b00e9b31ae872c76295b34e2aa6e1d02b9dde0"
  },
  "kernelspec": {
   "display_name": "Python 3.9.6 64-bit",
   "name": "python3"
  },
  "language_info": {
   "codemirror_mode": {
    "name": "ipython",
    "version": 3
   },
   "file_extension": ".py",
   "mimetype": "text/x-python",
   "name": "python",
   "nbconvert_exporter": "python",
   "pygments_lexer": "ipython3",
   "version": "3.9.6"
  },
  "orig_nbformat": 4
 },
 "nbformat": 4,
 "nbformat_minor": 2
}
