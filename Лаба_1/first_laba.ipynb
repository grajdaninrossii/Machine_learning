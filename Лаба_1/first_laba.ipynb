{
 "cells": [
  {
   "cell_type": "markdown",
   "source": [
    "# Метод k-ближайших соседей."
   ],
   "metadata": {}
  },
  {
   "cell_type": "code",
   "execution_count": 1,
   "source": [
    "from sklearn import datasets\r\n",
    "import numpy as np\r\n",
    "import pandas as pd\r\n",
    "import sys\r\n",
    "import random\r\n",
    "from collections import Counter"
   ],
   "outputs": [],
   "metadata": {}
  },
  {
   "cell_type": "markdown",
   "source": [
    "*Разбиваем датасет на две части: для теста и для данных проверки*"
   ],
   "metadata": {}
  },
  {
   "cell_type": "code",
   "execution_count": 2,
   "source": [
    "def split_dataset(data):\r\n",
    "    len_mass = len(data.data) # длина массива данных\r\n",
    "    mass_sort = [i for i in range(len_mass)] # массив индексов\r\n",
    "    random.shuffle(mass_sort) # Рандомно сортируем индексы\r\n",
    "\r\n",
    "    len_determine = int(len_mass * 0.7)\r\n",
    "    # list_determine = [len_mass - len_determine, len_determine]\r\n",
    "    datasets_learn = [[data.data[i], data.target[i]] for i in mass_sort[:len_determine]] # Первые 70 процентов добавляем для обучение,\r\n",
    "    datasets_test = [[data.data[i], data.target[i]] for i in mass_sort[len_determine:]] # остальные для теста.\r\n",
    "    return datasets_learn, datasets_test\r\n"
   ],
   "outputs": [],
   "metadata": {}
  },
  {
   "cell_type": "markdown",
   "source": [
    "*Нормализуем данные*\r\n",
    "**ПЕРЕПИСАТЬ**"
   ],
   "metadata": {}
  },
  {
   "cell_type": "code",
   "execution_count": 3,
   "source": [
    "def standartization(data):\r\n",
    "    # Находим макс и мин эл.\r\n",
    "    min_elem = min(data, key = lambda a: min(a[0]))[0][-1]\r\n",
    "    max_elem = max(data, key = lambda a: max(a[0]))[0][0]\r\n",
    "\r\n",
    "    print(min_elem, max_elem)\r\n",
    "    difference = max_elem - min_elem\r\n",
    "\r\n",
    "    # Меняем значения на нормализованные.\r\n",
    "    for i in range(len(data)):\r\n",
    "        elem_support = 0\r\n",
    "        for j in range(len(data[i][0])):\r\n",
    "            data[i][0][j] = (data[i][0][j] - min_elem) / difference\r\n"
   ],
   "outputs": [],
   "metadata": {}
  },
  {
   "cell_type": "markdown",
   "source": [
    "*Метрики*"
   ],
   "metadata": {}
  },
  {
   "cell_type": "code",
   "execution_count": 4,
   "source": [
    "# Вход el1 = [el1, el2, ... , eln]\r\n",
    "def l1(el1, el2):\r\n",
    "    return sum([abs(k - v) for k, v in list(zip(el1, el2))])\r\n",
    "\r\n",
    "def l2(el1, el2):\r\n",
    "    return sum([(k - v)**2 for k, v in list(zip(el1, el2))]) ** 0.5\r\n",
    "\r\n",
    "def l_infinity(el1, el2):\r\n",
    "    max_len = 0\r\n",
    "    for k, v in list(zip(el1, el2)):\r\n",
    "        if abs(k- v) > max_len:\r\n",
    "            max_len = abs(k - v)\r\n",
    "    return max([abs(k - v) for k, v in list(zip(el1, el2))])"
   ],
   "outputs": [],
   "metadata": {}
  },
  {
   "cell_type": "markdown",
   "source": [
    "*Метод k-ближайших соседей*"
   ],
   "metadata": {}
  },
  {
   "cell_type": "code",
   "execution_count": 5,
   "source": [
    "def choice_class(mass_n):\r\n",
    "    count = Counter(mass_n)\r\n",
    "    return max(count, key = count.get)\r\n",
    "\r\n",
    "\r\n",
    "def k_nearest_neightbors(data_learn, data_test, metric = l1, n = 4):\r\n",
    "    rez = []\r\n",
    "    for i in data_test:\r\n",
    "        nearest_neighbors_list = []\r\n",
    "        mass = []\r\n",
    "        for j in data_learn:\r\n",
    "            mass.append([metric(i[0], j[0]), j[1]])\r\n",
    "        mass.sort(key = lambda a: a[0])\r\n",
    "        for z in mass[:n]:\r\n",
    "            nearest_neighbors_list.append(z[1])\r\n",
    "        rez.append(choice_class(nearest_neighbors_list))\r\n",
    "    return rez"
   ],
   "outputs": [],
   "metadata": {}
  },
  {
   "cell_type": "code",
   "execution_count": 6,
   "source": [
    "def check_forecast(data_test, forecast):\r\n",
    "    target_rez = len(data_test)\r\n",
    "    forecast_rez = 0\r\n",
    "    for i in range(len(data_test)):\r\n",
    "        if data_test[i][1] == forecast[i]:\r\n",
    "            forecast_rez += 1\r\n",
    "    return forecast_rez / target_rez\r\n"
   ],
   "outputs": [],
   "metadata": {}
  },
  {
   "cell_type": "code",
   "execution_count": 7,
   "source": [
    "def main():\r\n",
    "    data = datasets.load_wine()\r\n",
    "\r\n",
    "    learn, test = split_dataset(data)\r\n",
    "\r\n",
    "    standartization(learn)\r\n",
    "    standartization(test)\r\n",
    "    \r\n",
    "\r\n",
    "    # \r\n",
    "    rez_l1 = k_nearest_neightbors(learn, test, l1, 5)\r\n",
    "    rez_l2 = k_nearest_neightbors(learn, test, l2, 5)\r\n",
    "    rez_l_infinity = k_nearest_neightbors(learn, test, l_infinity, 5)\r\n",
    "\r\n",
    "    answer1 = check_forecast(test, rez_l1)\r\n",
    "    answer2 = check_forecast(test, rez_l2)\r\n",
    "    answer3 = check_forecast(test, rez_l_infinity)\r\n",
    "\r\n",
    "    print(f\"Обучение с метрикой l1 для 5 ближайших соседей: {answer1}\")\r\n",
    "    print(f\"Обучение с метрикой l2 для 5 ближайших соседей: {answer2}\")\r\n",
    "    print(f\"Обучение с метрикой l_infinity для 5 ближайших соседей: {answer3}\")"
   ],
   "outputs": [],
   "metadata": {}
  },
  {
   "cell_type": "code",
   "execution_count": 8,
   "source": [
    "if __name__ == \"__main__\":\r\n",
    "    main()"
   ],
   "outputs": [
    {
     "output_type": "stream",
     "name": "stdout",
     "text": [
      "886.0 14.19\n",
      "845.0 14.2\n",
      "Обучение с метрикой l1 для 5 ближайших соседей: 0.6851851851851852\n",
      "Обучение с метрикой l2 для 5 ближайших соседей: 0.6851851851851852\n",
      "Обучение с метрикой l_infinity для 5 ближайших соседей: 0.6666666666666666\n"
     ]
    }
   ],
   "metadata": {}
  }
 ],
 "metadata": {
  "orig_nbformat": 4,
  "language_info": {
   "name": "python",
   "version": "3.9.6",
   "mimetype": "text/x-python",
   "codemirror_mode": {
    "name": "ipython",
    "version": 3
   },
   "pygments_lexer": "ipython3",
   "nbconvert_exporter": "python",
   "file_extension": ".py"
  },
  "kernelspec": {
   "name": "python3",
   "display_name": "Python 3.9.6 64-bit"
  },
  "interpreter": {
   "hash": "9b0038b8654e6c4b575324a698b00e9b31ae872c76295b34e2aa6e1d02b9dde0"
  }
 },
 "nbformat": 4,
 "nbformat_minor": 2
}